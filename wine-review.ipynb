{
 "cells": [
  {
   "cell_type": "code",
   "execution_count": 1,
   "id": "341259e9",
   "metadata": {
    "_cell_guid": "b1076dfc-b9ad-4769-8c92-a6c4dae69d19",
    "_uuid": "8f2839f25d086af736a60e9eeb907d3b93b6e0e5",
    "execution": {
     "iopub.execute_input": "2021-10-23T20:47:11.273539Z",
     "iopub.status.busy": "2021-10-23T20:47:11.272324Z",
     "iopub.status.idle": "2021-10-23T20:47:12.207596Z",
     "shell.execute_reply": "2021-10-23T20:47:12.208195Z",
     "shell.execute_reply.started": "2021-10-23T20:46:23.704715Z"
    },
    "papermill": {
     "duration": 0.958114,
     "end_time": "2021-10-23T20:47:12.208526",
     "exception": false,
     "start_time": "2021-10-23T20:47:11.250412",
     "status": "completed"
    },
    "tags": []
   },
   "outputs": [],
   "source": [
    "import pandas as pd\n",
    "import seaborn as sns"
   ]
  },
  {
   "cell_type": "code",
   "execution_count": 2,
   "id": "a77ee4e2",
   "metadata": {
    "execution": {
     "iopub.execute_input": "2021-10-23T20:47:12.242290Z",
     "iopub.status.busy": "2021-10-23T20:47:12.241655Z",
     "iopub.status.idle": "2021-10-23T20:47:13.955784Z",
     "shell.execute_reply": "2021-10-23T20:47:13.956291Z",
     "shell.execute_reply.started": "2021-10-23T20:46:24.064814Z"
    },
    "papermill": {
     "duration": 1.732413,
     "end_time": "2021-10-23T20:47:13.956484",
     "exception": false,
     "start_time": "2021-10-23T20:47:12.224071",
     "status": "completed"
    },
    "tags": []
   },
   "outputs": [],
   "source": [
    "reviews = pd.read_csv('../input/wine777/winemag-data-130k-v2.csv', index_col=0)\n",
    "pd.set_option(\"display.max_rows\", 5)"
   ]
  },
  {
   "cell_type": "markdown",
   "id": "c7d27ea6",
   "metadata": {
    "papermill": {
     "duration": 0.014664,
     "end_time": "2021-10-23T20:47:13.988354",
     "exception": false,
     "start_time": "2021-10-23T20:47:13.973690",
     "status": "completed"
    },
    "tags": []
   },
   "source": [
    "# **1. Look at an overview of your data.**"
   ]
  },
  {
   "cell_type": "code",
   "execution_count": 3,
   "id": "9ee91584",
   "metadata": {
    "execution": {
     "iopub.execute_input": "2021-10-23T20:47:14.026672Z",
     "iopub.status.busy": "2021-10-23T20:47:14.025719Z",
     "iopub.status.idle": "2021-10-23T20:47:14.045874Z",
     "shell.execute_reply": "2021-10-23T20:47:14.046402Z",
     "shell.execute_reply.started": "2021-10-23T20:46:25.104374Z"
    },
    "papermill": {
     "duration": 0.042721,
     "end_time": "2021-10-23T20:47:14.046574",
     "exception": false,
     "start_time": "2021-10-23T20:47:14.003853",
     "status": "completed"
    },
    "tags": []
   },
   "outputs": [
    {
     "data": {
      "text/html": [
       "<div>\n",
       "<style scoped>\n",
       "    .dataframe tbody tr th:only-of-type {\n",
       "        vertical-align: middle;\n",
       "    }\n",
       "\n",
       "    .dataframe tbody tr th {\n",
       "        vertical-align: top;\n",
       "    }\n",
       "\n",
       "    .dataframe thead th {\n",
       "        text-align: right;\n",
       "    }\n",
       "</style>\n",
       "<table border=\"1\" class=\"dataframe\">\n",
       "  <thead>\n",
       "    <tr style=\"text-align: right;\">\n",
       "      <th></th>\n",
       "      <th>country</th>\n",
       "      <th>description</th>\n",
       "      <th>designation</th>\n",
       "      <th>points</th>\n",
       "      <th>price</th>\n",
       "      <th>province</th>\n",
       "      <th>region_1</th>\n",
       "      <th>region_2</th>\n",
       "      <th>taster_name</th>\n",
       "      <th>taster_twitter_handle</th>\n",
       "      <th>title</th>\n",
       "      <th>variety</th>\n",
       "      <th>winery</th>\n",
       "    </tr>\n",
       "  </thead>\n",
       "  <tbody>\n",
       "    <tr>\n",
       "      <th>0</th>\n",
       "      <td>Italy</td>\n",
       "      <td>Aromas include tropical fruit, broom, brimston...</td>\n",
       "      <td>Vulkà Bianco</td>\n",
       "      <td>87</td>\n",
       "      <td>NaN</td>\n",
       "      <td>Sicily &amp; Sardinia</td>\n",
       "      <td>Etna</td>\n",
       "      <td>NaN</td>\n",
       "      <td>Kerin O’Keefe</td>\n",
       "      <td>@kerinokeefe</td>\n",
       "      <td>Nicosia 2013 Vulkà Bianco  (Etna)</td>\n",
       "      <td>White Blend</td>\n",
       "      <td>Nicosia</td>\n",
       "    </tr>\n",
       "    <tr>\n",
       "      <th>1</th>\n",
       "      <td>Portugal</td>\n",
       "      <td>This is ripe and fruity, a wine that is smooth...</td>\n",
       "      <td>Avidagos</td>\n",
       "      <td>87</td>\n",
       "      <td>15.0</td>\n",
       "      <td>Douro</td>\n",
       "      <td>NaN</td>\n",
       "      <td>NaN</td>\n",
       "      <td>Roger Voss</td>\n",
       "      <td>@vossroger</td>\n",
       "      <td>Quinta dos Avidagos 2011 Avidagos Red (Douro)</td>\n",
       "      <td>Portuguese Red</td>\n",
       "      <td>Quinta dos Avidagos</td>\n",
       "    </tr>\n",
       "    <tr>\n",
       "      <th>2</th>\n",
       "      <td>US</td>\n",
       "      <td>Tart and snappy, the flavors of lime flesh and...</td>\n",
       "      <td>NaN</td>\n",
       "      <td>87</td>\n",
       "      <td>14.0</td>\n",
       "      <td>Oregon</td>\n",
       "      <td>Willamette Valley</td>\n",
       "      <td>Willamette Valley</td>\n",
       "      <td>Paul Gregutt</td>\n",
       "      <td>@paulgwine</td>\n",
       "      <td>Rainstorm 2013 Pinot Gris (Willamette Valley)</td>\n",
       "      <td>Pinot Gris</td>\n",
       "      <td>Rainstorm</td>\n",
       "    </tr>\n",
       "    <tr>\n",
       "      <th>3</th>\n",
       "      <td>US</td>\n",
       "      <td>Pineapple rind, lemon pith and orange blossom ...</td>\n",
       "      <td>Reserve Late Harvest</td>\n",
       "      <td>87</td>\n",
       "      <td>13.0</td>\n",
       "      <td>Michigan</td>\n",
       "      <td>Lake Michigan Shore</td>\n",
       "      <td>NaN</td>\n",
       "      <td>Alexander Peartree</td>\n",
       "      <td>NaN</td>\n",
       "      <td>St. Julian 2013 Reserve Late Harvest Riesling ...</td>\n",
       "      <td>Riesling</td>\n",
       "      <td>St. Julian</td>\n",
       "    </tr>\n",
       "    <tr>\n",
       "      <th>4</th>\n",
       "      <td>US</td>\n",
       "      <td>Much like the regular bottling from 2012, this...</td>\n",
       "      <td>Vintner's Reserve Wild Child Block</td>\n",
       "      <td>87</td>\n",
       "      <td>65.0</td>\n",
       "      <td>Oregon</td>\n",
       "      <td>Willamette Valley</td>\n",
       "      <td>Willamette Valley</td>\n",
       "      <td>Paul Gregutt</td>\n",
       "      <td>@paulgwine</td>\n",
       "      <td>Sweet Cheeks 2012 Vintner's Reserve Wild Child...</td>\n",
       "      <td>Pinot Noir</td>\n",
       "      <td>Sweet Cheeks</td>\n",
       "    </tr>\n",
       "  </tbody>\n",
       "</table>\n",
       "</div>"
      ],
      "text/plain": [
       "    country                                        description  \\\n",
       "0     Italy  Aromas include tropical fruit, broom, brimston...   \n",
       "1  Portugal  This is ripe and fruity, a wine that is smooth...   \n",
       "2        US  Tart and snappy, the flavors of lime flesh and...   \n",
       "3        US  Pineapple rind, lemon pith and orange blossom ...   \n",
       "4        US  Much like the regular bottling from 2012, this...   \n",
       "\n",
       "                          designation  points  price           province  \\\n",
       "0                        Vulkà Bianco      87    NaN  Sicily & Sardinia   \n",
       "1                            Avidagos      87   15.0              Douro   \n",
       "2                                 NaN      87   14.0             Oregon   \n",
       "3                Reserve Late Harvest      87   13.0           Michigan   \n",
       "4  Vintner's Reserve Wild Child Block      87   65.0             Oregon   \n",
       "\n",
       "              region_1           region_2         taster_name  \\\n",
       "0                 Etna                NaN       Kerin O’Keefe   \n",
       "1                  NaN                NaN          Roger Voss   \n",
       "2    Willamette Valley  Willamette Valley        Paul Gregutt   \n",
       "3  Lake Michigan Shore                NaN  Alexander Peartree   \n",
       "4    Willamette Valley  Willamette Valley        Paul Gregutt   \n",
       "\n",
       "  taster_twitter_handle                                              title  \\\n",
       "0          @kerinokeefe                  Nicosia 2013 Vulkà Bianco  (Etna)   \n",
       "1            @vossroger      Quinta dos Avidagos 2011 Avidagos Red (Douro)   \n",
       "2           @paulgwine       Rainstorm 2013 Pinot Gris (Willamette Valley)   \n",
       "3                   NaN  St. Julian 2013 Reserve Late Harvest Riesling ...   \n",
       "4           @paulgwine   Sweet Cheeks 2012 Vintner's Reserve Wild Child...   \n",
       "\n",
       "          variety               winery  \n",
       "0     White Blend              Nicosia  \n",
       "1  Portuguese Red  Quinta dos Avidagos  \n",
       "2      Pinot Gris            Rainstorm  \n",
       "3        Riesling           St. Julian  \n",
       "4      Pinot Noir         Sweet Cheeks  "
      ]
     },
     "execution_count": 3,
     "metadata": {},
     "output_type": "execute_result"
    }
   ],
   "source": [
    "reviews.head()"
   ]
  },
  {
   "cell_type": "markdown",
   "id": "0453d517",
   "metadata": {
    "papermill": {
     "duration": 0.015353,
     "end_time": "2021-10-23T20:47:14.077675",
     "exception": false,
     "start_time": "2021-10-23T20:47:14.062322",
     "status": "completed"
    },
    "tags": []
   },
   "source": [
    "# **2. Select the `description` column from `reviews` and assign the result to the variable `desc`.**"
   ]
  },
  {
   "cell_type": "code",
   "execution_count": 4,
   "id": "a47a7ed6",
   "metadata": {
    "execution": {
     "iopub.execute_input": "2021-10-23T20:47:14.116472Z",
     "iopub.status.busy": "2021-10-23T20:47:14.115765Z",
     "iopub.status.idle": "2021-10-23T20:47:14.119026Z",
     "shell.execute_reply": "2021-10-23T20:47:14.120097Z",
     "shell.execute_reply.started": "2021-10-23T20:46:25.129065Z"
    },
    "papermill": {
     "duration": 0.02722,
     "end_time": "2021-10-23T20:47:14.120378",
     "exception": false,
     "start_time": "2021-10-23T20:47:14.093158",
     "status": "completed"
    },
    "tags": []
   },
   "outputs": [
    {
     "name": "stdout",
     "output_type": "stream",
     "text": [
      "0    Aromas include tropical fruit, broom, brimston...\n",
      "1    This is ripe and fruity, a wine that is smooth...\n",
      "2    Tart and snappy, the flavors of lime flesh and...\n",
      "3    Pineapple rind, lemon pith and orange blossom ...\n",
      "4    Much like the regular bottling from 2012, this...\n",
      "Name: description, dtype: object\n"
     ]
    }
   ],
   "source": [
    "desc = reviews.description\n",
    "print(desc.head())"
   ]
  },
  {
   "cell_type": "markdown",
   "id": "f681daae",
   "metadata": {
    "papermill": {
     "duration": 0.015721,
     "end_time": "2021-10-23T20:47:14.153776",
     "exception": false,
     "start_time": "2021-10-23T20:47:14.138055",
     "status": "completed"
    },
    "tags": []
   },
   "source": [
    "# **3. Select the first value from the description column of `reviews`, assigning it to variable `first_description`.**"
   ]
  },
  {
   "cell_type": "code",
   "execution_count": 5,
   "id": "26f1f8de",
   "metadata": {
    "execution": {
     "iopub.execute_input": "2021-10-23T20:47:14.189536Z",
     "iopub.status.busy": "2021-10-23T20:47:14.188879Z",
     "iopub.status.idle": "2021-10-23T20:47:14.194486Z",
     "shell.execute_reply": "2021-10-23T20:47:14.193786Z",
     "shell.execute_reply.started": "2021-10-23T20:46:25.137680Z"
    },
    "papermill": {
     "duration": 0.024943,
     "end_time": "2021-10-23T20:47:14.194667",
     "exception": false,
     "start_time": "2021-10-23T20:47:14.169724",
     "status": "completed"
    },
    "tags": []
   },
   "outputs": [
    {
     "name": "stdout",
     "output_type": "stream",
     "text": [
      "Aromas include tropical fruit, broom, brimstone and dried herb. The palate isn't overly expressive, offering unripened apple, citrus and dried sage alongside brisk acidity.\n"
     ]
    }
   ],
   "source": [
    "first_description = desc.iloc[0]\n",
    "print(first_description)"
   ]
  },
  {
   "cell_type": "markdown",
   "id": "98b46c10",
   "metadata": {
    "papermill": {
     "duration": 0.015974,
     "end_time": "2021-10-23T20:47:14.227505",
     "exception": false,
     "start_time": "2021-10-23T20:47:14.211531",
     "status": "completed"
    },
    "tags": []
   },
   "source": [
    "# **4. Select the first row of data (the first record) from `reviews`, assigning it to the variable `first_row`.**"
   ]
  },
  {
   "cell_type": "code",
   "execution_count": 6,
   "id": "1a6e9a19",
   "metadata": {
    "execution": {
     "iopub.execute_input": "2021-10-23T20:47:14.263905Z",
     "iopub.status.busy": "2021-10-23T20:47:14.262356Z",
     "iopub.status.idle": "2021-10-23T20:47:14.270399Z",
     "shell.execute_reply": "2021-10-23T20:47:14.269831Z",
     "shell.execute_reply.started": "2021-10-23T20:46:25.148324Z"
    },
    "papermill": {
     "duration": 0.026881,
     "end_time": "2021-10-23T20:47:14.270540",
     "exception": false,
     "start_time": "2021-10-23T20:47:14.243659",
     "status": "completed"
    },
    "tags": []
   },
   "outputs": [
    {
     "name": "stdout",
     "output_type": "stream",
     "text": [
      "country                                                    Italy\n",
      "description    Aromas include tropical fruit, broom, brimston...\n",
      "                                     ...                        \n",
      "variety                                              White Blend\n",
      "winery                                                   Nicosia\n",
      "Name: 0, Length: 13, dtype: object\n"
     ]
    }
   ],
   "source": [
    "first_row = reviews.iloc[0]\n",
    "print(first_row)"
   ]
  },
  {
   "cell_type": "markdown",
   "id": "a838d3d4",
   "metadata": {
    "papermill": {
     "duration": 0.016165,
     "end_time": "2021-10-23T20:47:14.303191",
     "exception": false,
     "start_time": "2021-10-23T20:47:14.287026",
     "status": "completed"
    },
    "tags": []
   },
   "source": [
    "# **5. Select the first 10 values from the `description` column in `reviews`, assigning the result to variable `first_descriptions`.**"
   ]
  },
  {
   "cell_type": "code",
   "execution_count": 7,
   "id": "8e1bd6e6",
   "metadata": {
    "execution": {
     "iopub.execute_input": "2021-10-23T20:47:14.340786Z",
     "iopub.status.busy": "2021-10-23T20:47:14.339867Z",
     "iopub.status.idle": "2021-10-23T20:47:14.350497Z",
     "shell.execute_reply": "2021-10-23T20:47:14.349902Z",
     "shell.execute_reply.started": "2021-10-23T20:46:25.161116Z"
    },
    "papermill": {
     "duration": 0.030253,
     "end_time": "2021-10-23T20:47:14.350651",
     "exception": false,
     "start_time": "2021-10-23T20:47:14.320398",
     "status": "completed"
    },
    "tags": []
   },
   "outputs": [
    {
     "name": "stdout",
     "output_type": "stream",
     "text": [
      "0    Aromas include tropical fruit, broom, brimston...\n",
      "1    This is ripe and fruity, a wine that is smooth...\n",
      "                           ...                        \n",
      "8    Savory dried thyme notes accent sunnier flavor...\n",
      "9    This has great depth of flavor with its fresh ...\n",
      "Name: description, Length: 10, dtype: object\n"
     ]
    }
   ],
   "source": [
    "first_descriptions = pd.Series(reviews.loc[:9, \"description\"])\n",
    "print(first_descriptions)"
   ]
  },
  {
   "cell_type": "markdown",
   "id": "5b4e005c",
   "metadata": {
    "papermill": {
     "duration": 0.016841,
     "end_time": "2021-10-23T20:47:14.385761",
     "exception": false,
     "start_time": "2021-10-23T20:47:14.368920",
     "status": "completed"
    },
    "tags": []
   },
   "source": [
    "# **6. Select the records with index labels `1`, `2`, `3`, `5`, and `8`, assigning the result to the variable `sample_reviews`.**"
   ]
  },
  {
   "cell_type": "code",
   "execution_count": 8,
   "id": "fa983341",
   "metadata": {
    "execution": {
     "iopub.execute_input": "2021-10-23T20:47:14.428743Z",
     "iopub.status.busy": "2021-10-23T20:47:14.427685Z",
     "iopub.status.idle": "2021-10-23T20:47:14.436598Z",
     "shell.execute_reply": "2021-10-23T20:47:14.437094Z",
     "shell.execute_reply.started": "2021-10-23T20:46:25.178184Z"
    },
    "papermill": {
     "duration": 0.033462,
     "end_time": "2021-10-23T20:47:14.437257",
     "exception": false,
     "start_time": "2021-10-23T20:47:14.403795",
     "status": "completed"
    },
    "tags": []
   },
   "outputs": [
    {
     "name": "stdout",
     "output_type": "stream",
     "text": [
      "    country                                        description  \\\n",
      "1  Portugal  This is ripe and fruity, a wine that is smooth...   \n",
      "2        US  Tart and snappy, the flavors of lime flesh and...   \n",
      "3        US  Pineapple rind, lemon pith and orange blossom ...   \n",
      "5     Spain  Blackberry and raspberry aromas show a typical...   \n",
      "8   Germany  Savory dried thyme notes accent sunnier flavor...   \n",
      "\n",
      "            designation  points  price        province             region_1  \\\n",
      "1              Avidagos      87   15.0           Douro                  NaN   \n",
      "2                   NaN      87   14.0          Oregon    Willamette Valley   \n",
      "3  Reserve Late Harvest      87   13.0        Michigan  Lake Michigan Shore   \n",
      "5          Ars In Vitro      87   15.0  Northern Spain              Navarra   \n",
      "8                 Shine      87   12.0     Rheinhessen                  NaN   \n",
      "\n",
      "            region_2         taster_name taster_twitter_handle  \\\n",
      "1                NaN          Roger Voss            @vossroger   \n",
      "2  Willamette Valley        Paul Gregutt           @paulgwine    \n",
      "3                NaN  Alexander Peartree                   NaN   \n",
      "5                NaN   Michael Schachner           @wineschach   \n",
      "8                NaN  Anna Lee C. Iijima                   NaN   \n",
      "\n",
      "                                               title             variety  \\\n",
      "1      Quinta dos Avidagos 2011 Avidagos Red (Douro)      Portuguese Red   \n",
      "2      Rainstorm 2013 Pinot Gris (Willamette Valley)          Pinot Gris   \n",
      "3  St. Julian 2013 Reserve Late Harvest Riesling ...            Riesling   \n",
      "5  Tandem 2011 Ars In Vitro Tempranillo-Merlot (N...  Tempranillo-Merlot   \n",
      "8  Heinz Eifel 2013 Shine Gewürztraminer (Rheinhe...      Gewürztraminer   \n",
      "\n",
      "                winery  \n",
      "1  Quinta dos Avidagos  \n",
      "2            Rainstorm  \n",
      "3           St. Julian  \n",
      "5               Tandem  \n",
      "8          Heinz Eifel  \n"
     ]
    }
   ],
   "source": [
    "sample_reviews = reviews.iloc[[1,2,3,5,8]]\n",
    "print(sample_reviews)"
   ]
  },
  {
   "cell_type": "markdown",
   "id": "c3663c21",
   "metadata": {
    "papermill": {
     "duration": 0.017339,
     "end_time": "2021-10-23T20:47:14.472044",
     "exception": false,
     "start_time": "2021-10-23T20:47:14.454705",
     "status": "completed"
    },
    "tags": []
   },
   "source": [
    "# **7. Create a variable `df` containing the `country`, `province`, `region_1`, and `region_2` columns of the records with the index labels `0`, `1`, `10`, and `100`.**"
   ]
  },
  {
   "cell_type": "code",
   "execution_count": 9,
   "id": "f351868a",
   "metadata": {
    "execution": {
     "iopub.execute_input": "2021-10-23T20:47:14.510227Z",
     "iopub.status.busy": "2021-10-23T20:47:14.509594Z",
     "iopub.status.idle": "2021-10-23T20:47:14.523415Z",
     "shell.execute_reply": "2021-10-23T20:47:14.522611Z",
     "shell.execute_reply.started": "2021-10-23T20:46:25.192474Z"
    },
    "papermill": {
     "duration": 0.034155,
     "end_time": "2021-10-23T20:47:14.523618",
     "exception": false,
     "start_time": "2021-10-23T20:47:14.489463",
     "status": "completed"
    },
    "tags": []
   },
   "outputs": [
    {
     "name": "stdout",
     "output_type": "stream",
     "text": [
      "      country           province      region_1      region_2\n",
      "0       Italy  Sicily & Sardinia          Etna           NaN\n",
      "1    Portugal              Douro           NaN           NaN\n",
      "10         US         California   Napa Valley          Napa\n",
      "100        US           New York  Finger Lakes  Finger Lakes\n"
     ]
    }
   ],
   "source": [
    "df = reviews.loc[[0,1,10,100], [\"country\", \"province\", \"region_1\", \"region_2\"]]\n",
    "print(df)"
   ]
  },
  {
   "cell_type": "markdown",
   "id": "719c1c95",
   "metadata": {
    "papermill": {
     "duration": 0.017667,
     "end_time": "2021-10-23T20:47:14.560155",
     "exception": false,
     "start_time": "2021-10-23T20:47:14.542488",
     "status": "completed"
    },
    "tags": []
   },
   "source": [
    "# **8. Create a variable `df` containing the `country` and `variety` columns of the first 100 records.**"
   ]
  },
  {
   "cell_type": "code",
   "execution_count": 10,
   "id": "38cb4ebb",
   "metadata": {
    "execution": {
     "iopub.execute_input": "2021-10-23T20:47:14.601374Z",
     "iopub.status.busy": "2021-10-23T20:47:14.600697Z",
     "iopub.status.idle": "2021-10-23T20:47:14.608446Z",
     "shell.execute_reply": "2021-10-23T20:47:14.607668Z",
     "shell.execute_reply.started": "2021-10-23T20:46:25.216912Z"
    },
    "papermill": {
     "duration": 0.030715,
     "end_time": "2021-10-23T20:47:14.608634",
     "exception": false,
     "start_time": "2021-10-23T20:47:14.577919",
     "status": "completed"
    },
    "tags": []
   },
   "outputs": [
    {
     "name": "stdout",
     "output_type": "stream",
     "text": [
      "      country                   variety\n",
      "0       Italy               White Blend\n",
      "1    Portugal            Portuguese Red\n",
      "..        ...                       ...\n",
      "99         US  Bordeaux-style Red Blend\n",
      "100        US                Pinot Gris\n",
      "\n",
      "[101 rows x 2 columns]\n"
     ]
    }
   ],
   "source": [
    "df = reviews.loc[:100, [\"country\", \"variety\"]]\n",
    "print(df)"
   ]
  },
  {
   "cell_type": "markdown",
   "id": "68062e2e",
   "metadata": {
    "papermill": {
     "duration": 0.017971,
     "end_time": "2021-10-23T20:47:14.645400",
     "exception": false,
     "start_time": "2021-10-23T20:47:14.627429",
     "status": "completed"
    },
    "tags": []
   },
   "source": [
    "# **9. Create a DataFrame `italian_wines` containing reviews of wines made in `Italy`.**"
   ]
  },
  {
   "cell_type": "code",
   "execution_count": 11,
   "id": "b482106c",
   "metadata": {
    "execution": {
     "iopub.execute_input": "2021-10-23T20:47:14.685465Z",
     "iopub.status.busy": "2021-10-23T20:47:14.684508Z",
     "iopub.status.idle": "2021-10-23T20:47:14.723334Z",
     "shell.execute_reply": "2021-10-23T20:47:14.723919Z",
     "shell.execute_reply.started": "2021-10-23T20:46:25.227370Z"
    },
    "papermill": {
     "duration": 0.060493,
     "end_time": "2021-10-23T20:47:14.724108",
     "exception": false,
     "start_time": "2021-10-23T20:47:14.663615",
     "status": "completed"
    },
    "tags": []
   },
   "outputs": [
    {
     "name": "stdout",
     "output_type": "stream",
     "text": [
      "       country                                        description  \\\n",
      "0        Italy  Aromas include tropical fruit, broom, brimston...   \n",
      "6        Italy  Here's a bright, informal red that opens with ...   \n",
      "...        ...                                                ...   \n",
      "129961   Italy  Intense aromas of wild cherry, baking spice, t...   \n",
      "129962   Italy  Blackberry, cassis, grilled herb and toasted a...   \n",
      "\n",
      "                      designation  points  price           province  region_1  \\\n",
      "0                    Vulkà Bianco      87    NaN  Sicily & Sardinia      Etna   \n",
      "6                         Belsito      87   16.0  Sicily & Sardinia  Vittoria   \n",
      "...                           ...     ...    ...                ...       ...   \n",
      "129961                        NaN      90   30.0  Sicily & Sardinia   Sicilia   \n",
      "129962  Sàgana Tenuta San Giacomo      90   40.0  Sicily & Sardinia   Sicilia   \n",
      "\n",
      "       region_2    taster_name taster_twitter_handle  \\\n",
      "0           NaN  Kerin O’Keefe          @kerinokeefe   \n",
      "6           NaN  Kerin O’Keefe          @kerinokeefe   \n",
      "...         ...            ...                   ...   \n",
      "129961      NaN  Kerin O’Keefe          @kerinokeefe   \n",
      "129962      NaN  Kerin O’Keefe          @kerinokeefe   \n",
      "\n",
      "                                                    title       variety  \\\n",
      "0                       Nicosia 2013 Vulkà Bianco  (Etna)   White Blend   \n",
      "6        Terre di Giurfo 2013 Belsito Frappato (Vittoria)      Frappato   \n",
      "...                                                   ...           ...   \n",
      "129961                        COS 2013 Frappato (Sicilia)      Frappato   \n",
      "129962  Cusumano 2012 Sàgana Tenuta San Giacomo Nero d...  Nero d'Avola   \n",
      "\n",
      "                 winery  \n",
      "0               Nicosia  \n",
      "6       Terre di Giurfo  \n",
      "...                 ...  \n",
      "129961              COS  \n",
      "129962         Cusumano  \n",
      "\n",
      "[19540 rows x 13 columns]\n"
     ]
    }
   ],
   "source": [
    "italian_wines = reviews[reviews.country == \"Italy\"]\n",
    "print(italian_wines)"
   ]
  },
  {
   "cell_type": "markdown",
   "id": "43b7f342",
   "metadata": {
    "papermill": {
     "duration": 0.018553,
     "end_time": "2021-10-23T20:47:14.761402",
     "exception": false,
     "start_time": "2021-10-23T20:47:14.742849",
     "status": "completed"
    },
    "tags": []
   },
   "source": [
    "."
   ]
  },
  {
   "cell_type": "markdown",
   "id": "2605933b",
   "metadata": {
    "papermill": {
     "duration": 0.018726,
     "end_time": "2021-10-23T20:47:14.799306",
     "exception": false,
     "start_time": "2021-10-23T20:47:14.780580",
     "status": "completed"
    },
    "tags": []
   },
   "source": []
  }
 ],
 "metadata": {
  "kernelspec": {
   "display_name": "Python 3",
   "language": "python",
   "name": "python3"
  },
  "language_info": {
   "codemirror_mode": {
    "name": "ipython",
    "version": 3
   },
   "file_extension": ".py",
   "mimetype": "text/x-python",
   "name": "python",
   "nbconvert_exporter": "python",
   "pygments_lexer": "ipython3",
   "version": "3.7.10"
  },
  "papermill": {
   "default_parameters": {},
   "duration": 13.766165,
   "end_time": "2021-10-23T20:47:15.427841",
   "environment_variables": {},
   "exception": null,
   "input_path": "__notebook__.ipynb",
   "output_path": "__notebook__.ipynb",
   "parameters": {},
   "start_time": "2021-10-23T20:47:01.661676",
   "version": "2.3.3"
  }
 },
 "nbformat": 4,
 "nbformat_minor": 5
}
